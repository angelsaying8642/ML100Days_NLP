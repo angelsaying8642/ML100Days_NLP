{
 "cells": [
  {
   "cell_type": "markdown",
   "metadata": {},
   "source": [
    "## 作業目標: 透過思考與回答以更加了解計數方法的詞向量"
   ]
  },
  {
   "cell_type": "markdown",
   "metadata": {},
   "source": [
    "### 請問詞庫手法會有什麼樣的優缺點？\n",
    "\n",
    "詞庫手法為創建包含大量字詞的詞庫，將相同意思字詞(同義字)或相似意思字詞(相似字)分類在相同群組。\n",
    "\n",
    "優點:\n",
    "write your answer here\n",
    "\n",
    "缺點:\n",
    "write your answer here"
   ]
  },
  {
   "cell_type": "markdown",
   "metadata": {},
   "source": [
    "- 優：可以了解詞與詞之間的關聯性\n",
    "- 缺：當有新字詞時無法辨識，並且需要定期維護"
   ]
  },
  {
   "cell_type": "markdown",
   "metadata": {},
   "source": [
    "### 請問共現矩陣有什麼樣的優缺點？ \n",
    "\n",
    "根據分佈假說，相似的字詞會有類似的上下文，因此我們可以透過計數周圍(window)的字詞來表達特定字詞的向量。\n",
    "\n",
    "優點:\n",
    "write your answer here\n",
    "\n",
    "缺點:\n",
    "write your answer here"
   ]
  },
  {
   "cell_type": "markdown",
   "metadata": {},
   "source": [
    "- 優：比起 one-hot encoding，共現矩陣更能表達詞與詞之間的關係\n",
    "- 缺：容易產生稀疏矩陣，需要大量的內存"
   ]
  },
  {
   "cell_type": "markdown",
   "metadata": {},
   "source": [
    "### 請問為何需要對共現矩陣或PPMI進行SVD降維?\n",
    "\n",
    "降低雜訊的同時更能用少量特徵表達模型"
   ]
  },
  {
   "cell_type": "markdown",
   "metadata": {},
   "source": [
    "### 實作cosine similarity\n",
    "\n",
    "在比較兩個詞向量的相似度時可以使用cosine similarity:\n",
    "$$\n",
    "similarity(x,y) = \\frac{x \\cdot y}{||x||||y||} = \\frac{x_1y_1+...+x_ny_n}{\\sqrt{x_1^2+...+x_n^2}\\sqrt{y_1^2+...+y_n^2}}\n",
    "$$\n",
    "\n",
    "請實作cosine similarity並計算共現矩陣課程範例中you向量([0,1,0,0,0,0,0])與I([0,1,0,1,0,0,0])向量的相似度"
   ]
  },
  {
   "cell_type": "code",
   "execution_count": 14,
   "metadata": {},
   "outputs": [
    {
     "data": {
      "text/plain": [
       "0.7071067811865475"
      ]
     },
     "execution_count": 14,
     "metadata": {},
     "output_type": "execute_result"
    }
   ],
   "source": [
    "1/np.sqrt(2)"
   ]
  },
  {
   "cell_type": "code",
   "execution_count": 18,
   "metadata": {},
   "outputs": [
    {
     "name": "stdout",
     "output_type": "stream",
     "text": [
      "Similarity: 0.7071067811865475\n"
     ]
    }
   ],
   "source": [
    "import numpy as np\n",
    "I = np.array([0,1,0,0,0,0,0])\n",
    "You = np.array([0,1,0,1,0,0,0])\n",
    "\n",
    "def cos_similarity(x, y, eps=1e-8):\n",
    "    x_sq = 0\n",
    "    y_sq = 0\n",
    "    for i in x:\n",
    "        x_sq += i**2\n",
    "    for j in y:\n",
    "        y_sq += j**2\n",
    "    similiarity = np.inner(I,You)/(np.sqrt(x_sq)*np.sqrt(y_sq))\n",
    "    return similiarity\n",
    "print(f\"Similarity: {cos_similarity(I, You)}\")"
   ]
  },
  {
   "cell_type": "code",
   "execution_count": 2,
   "metadata": {},
   "outputs": [
    {
     "name": "stdout",
     "output_type": "stream",
     "text": [
      "Similarity: 0.7071067811865475\n"
     ]
    }
   ],
   "source": [
    "import numpy as np\n",
    "I = np.array([0,1,0,0,0,0,0])\n",
    "You = np.array([0,1,0,1,0,0,0])\n",
    "\n",
    "def cos_similarity(x, y, eps=1e-8):\n",
    "    ### your code ###\n",
    "\n",
    "print(f\"Similarity: {cos_similarity(I, You)}\")"
   ]
  },
  {
   "cell_type": "code",
   "execution_count": 9,
   "metadata": {},
   "outputs": [],
   "source": [
    "x = 0\n",
    "for i in I:\n",
    "    i2 = i**2\n",
    "    x += i2"
   ]
  },
  {
   "cell_type": "code",
   "execution_count": 17,
   "metadata": {},
   "outputs": [
    {
     "data": {
      "text/plain": [
       "1"
      ]
     },
     "execution_count": 17,
     "metadata": {},
     "output_type": "execute_result"
    }
   ],
   "source": [
    "np.inner(I,You)"
   ]
  }
 ],
 "metadata": {
  "kernelspec": {
   "display_name": "Python 3",
   "language": "python",
   "name": "python3"
  },
  "language_info": {
   "codemirror_mode": {
    "name": "ipython",
    "version": 3
   },
   "file_extension": ".py",
   "mimetype": "text/x-python",
   "name": "python",
   "nbconvert_exporter": "python",
   "pygments_lexer": "ipython3",
   "version": "3.8.3"
  }
 },
 "nbformat": 4,
 "nbformat_minor": 2
}
