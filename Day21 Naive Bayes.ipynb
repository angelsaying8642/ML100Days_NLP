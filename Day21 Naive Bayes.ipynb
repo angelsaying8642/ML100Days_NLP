{
 "cells": [
  {
   "cell_type": "markdown",
   "metadata": {},
   "source": [
    "參考資料來源: https://1fly2sky.wordpress.com/2016/04/03/%E6%A8%B8%E7%B4%A0%E8%B2%9D%E8%91%89%E6%96%AF%E5%88%86%E9%A1%9E%E5%99%A8naive-bayes-classifier/comment-page-1/"
   ]
  },
  {
   "cell_type": "markdown",
   "metadata": {},
   "source": [
    "被稱為Naive的意思為這個演算法假設了一個把現實世界的問題簡化過的模型去計算,不過因為準確度並沒有因為簡化了計算方式就下降,反而降低了計算量以及難度而因此受到廣泛的使用。而這個簡化的假設就是”條件獨立” 。"
   ]
  }
 ],
 "metadata": {
  "kernelspec": {
   "display_name": "Python 3",
   "language": "python",
   "name": "python3"
  },
  "language_info": {
   "codemirror_mode": {
    "name": "ipython",
    "version": 3
   },
   "file_extension": ".py",
   "mimetype": "text/x-python",
   "name": "python",
   "nbconvert_exporter": "python",
   "pygments_lexer": "ipython3",
   "version": "3.8.3"
  }
 },
 "nbformat": 4,
 "nbformat_minor": 4
}
