{
 "cells": [
  {
   "cell_type": "markdown",
   "metadata": {},
   "source": [
    "### 作業目標: 使用Jieba進行各項的斷詞操作"
   ]
  },
  {
   "cell_type": "markdown",
   "metadata": {},
   "source": [
    "### Import 所需 libraries"
   ]
  },
  {
   "cell_type": "code",
   "execution_count": 1,
   "metadata": {},
   "outputs": [],
   "source": [
    "#導入所需libraries\n",
    "#請import 1.可用於下載權重的library 2.建構自定義字典的library 3.斷詞, 詞性標注,與命名實體辨識libries\n",
    "###<your code>###\n",
    "from ckiptagger import WS, POS, NER\n",
    "#請對下列文本字串進行斷詞, 詞性標注, 命名實體識別\n",
    "\n",
    "sentence_list = [\n",
    "    \"傅達仁今將執行安樂死，卻突然爆出自己20年前遭緯來體育台封殺，他不懂自己哪裡得罪到電視台。\",\n",
    "    \"美國參議院針對今天總統布什所提名的勞工部長趙小蘭展開認可聽證會，預料她將會很順利通過參議院支持，成為該國有史以來第一位的華裔女性內閣成員。\",\n",
    "    \"\",\n",
    "    \"土地公有政策?？還是土地婆有政策。.\",\n",
    "    \"… 你確定嗎… 不要再騙了……\",\n",
    "    \"最多容納59,000個人,或5.9萬人,再多就不行了.這是環評的結論.\",\n",
    "    \"科長說:1,坪數對人數為1:3。2,可以再增加。\",\n",
    "]"
   ]
  },
  {
   "cell_type": "code",
   "execution_count": 15,
   "metadata": {},
   "outputs": [],
   "source": [
    "ws = WS(r'C:\\Users\\USER\\Desktop\\NLP 百日馬拉松\\範例\\D07data\\.') #建構斷詞\n",
    "word_sentence_list = ws(\n",
    "    sentence_list,\n",
    "    sentence_segmentation = True, # To consider delimiters\n",
    "    segment_delimiter_set = {\",\", \"。\", \":\", \"?\", \"!\", \";\"}) # This is the defualt set of delimiters"
   ]
  },
  {
   "cell_type": "code",
   "execution_count": 16,
   "metadata": {},
   "outputs": [
    {
     "data": {
      "text/plain": [
       "[['傅達仁',\n",
       "  '今',\n",
       "  '將',\n",
       "  '執行',\n",
       "  '安樂死',\n",
       "  '，',\n",
       "  '卻',\n",
       "  '突然',\n",
       "  '爆出',\n",
       "  '自己',\n",
       "  '20',\n",
       "  '年',\n",
       "  '前',\n",
       "  '遭',\n",
       "  '緯來',\n",
       "  '體育台',\n",
       "  '封殺',\n",
       "  '，',\n",
       "  '他',\n",
       "  '不',\n",
       "  '懂',\n",
       "  '自己',\n",
       "  '哪裡',\n",
       "  '得罪到',\n",
       "  '電視台',\n",
       "  '。'],\n",
       " ['美國',\n",
       "  '參議院',\n",
       "  '針對',\n",
       "  '今天',\n",
       "  '總統',\n",
       "  '布什',\n",
       "  '所',\n",
       "  '提名',\n",
       "  '的',\n",
       "  '勞工部長',\n",
       "  '趙小蘭',\n",
       "  '展開',\n",
       "  '認可',\n",
       "  '聽證會',\n",
       "  '，',\n",
       "  '預料',\n",
       "  '她',\n",
       "  '將',\n",
       "  '會',\n",
       "  '很',\n",
       "  '順利',\n",
       "  '通過',\n",
       "  '參議院',\n",
       "  '支持',\n",
       "  '，',\n",
       "  '成為',\n",
       "  '該',\n",
       "  '國',\n",
       "  '有史以來',\n",
       "  '第一',\n",
       "  '位',\n",
       "  '的',\n",
       "  '華裔',\n",
       "  '女性',\n",
       "  '內閣',\n",
       "  '成員',\n",
       "  '。'],\n",
       " [],\n",
       " ['土地公', '有', '政策', '?', '？', '還是', '土地', '婆', '有', '政策', '。', '.'],\n",
       " ['…', ' ', '你', '確定', '嗎', '…', ' ', '不要', '再', '騙', '了', '…', '…'],\n",
       " ['最多',\n",
       "  '容納',\n",
       "  '59',\n",
       "  ',',\n",
       "  '000',\n",
       "  '個',\n",
       "  '人',\n",
       "  ',',\n",
       "  '或',\n",
       "  '5.9萬',\n",
       "  '人',\n",
       "  ',',\n",
       "  '再',\n",
       "  '多',\n",
       "  '就',\n",
       "  '不行',\n",
       "  '了',\n",
       "  '.',\n",
       "  '這',\n",
       "  '是',\n",
       "  '環評',\n",
       "  '的',\n",
       "  '結論',\n",
       "  '.'],\n",
       " ['科長',\n",
       "  '說',\n",
       "  ':',\n",
       "  '1',\n",
       "  ',',\n",
       "  '坪數',\n",
       "  '對',\n",
       "  '人數',\n",
       "  '為',\n",
       "  '1',\n",
       "  ':',\n",
       "  '3',\n",
       "  '。',\n",
       "  '2',\n",
       "  ',',\n",
       "  '可以',\n",
       "  '再',\n",
       "  '增加',\n",
       "  '。']]"
      ]
     },
     "execution_count": 16,
     "metadata": {},
     "output_type": "execute_result"
    }
   ],
   "source": [
    "word_sentence_list"
   ]
  },
  {
   "cell_type": "markdown",
   "metadata": {},
   "source": [
    "### 進行斷詞, 詞性標注, 與命名實體識別"
   ]
  },
  {
   "cell_type": "code",
   "execution_count": 17,
   "metadata": {},
   "outputs": [
    {
     "name": "stdout",
     "output_type": "stream",
     "text": [
      "斷詞輸出: [['傅達仁', '今', '將', '執行', '安樂死', '，', '卻', '突然', '爆出', '自己', '20', '年', '前', '遭', '緯來', '體育台', '封殺', '，', '他', '不', '懂', '自己', '哪裡', '得罪到', '電視台', '。'], ['美國', '參議院', '針對', '今天', '總統', '布什', '所', '提名', '的', '勞工部長', '趙小蘭', '展開', '認可', '聽證會', '，', '預料', '她', '將', '會', '很', '順利', '通過', '參議院', '支持', '，', '成為', '該', '國', '有史以來', '第一', '位', '的', '華裔', '女性', '內閣', '成員', '。'], [], ['土地公', '有', '政策', '?', '？', '還是', '土地', '婆', '有', '政策', '。', '.'], ['…', ' ', '你', '確定', '嗎', '…', ' ', '不要', '再', '騙', '了', '…', '…'], ['最多', '容納', '59', ',', '000', '個', '人', ',', '或', '5.9萬', '人', ',', '再', '多', '就', '不行', '了', '.', '這', '是', '環評', '的', '結論', '.'], ['科長', '說', ':', '1', ',', '坪數', '對', '人數', '為', '1', ':', '3', '。', '2', ',', '可以', '再', '增加', '。']]\n",
      "\n",
      "\n",
      "詞性標注輸出: [['Nb', 'Nd', 'D', 'VC', 'Na', 'COMMACATEGORY', 'D', 'D', 'VJ', 'Nh', 'Neu', 'Nf', 'Ng', 'P', 'Nb', 'Na', 'VC', 'COMMACATEGORY', 'Nh', 'D', 'VK', 'Nh', 'Ncd', 'VJ', 'Nc', 'PERIODCATEGORY'], ['Nc', 'Nc', 'P', 'Nd', 'Na', 'Nb', 'D', 'VC', 'DE', 'Na', 'Nb', 'VC', 'VC', 'Na', 'COMMACATEGORY', 'VE', 'Nh', 'D', 'D', 'Dfa', 'VH', 'VC', 'Nc', 'VC', 'COMMACATEGORY', 'VG', 'Nes', 'Nc', 'D', 'Neu', 'Nf', 'DE', 'Na', 'Na', 'Na', 'Na', 'PERIODCATEGORY'], [], ['Nb', 'V_2', 'Na', 'QUESTIONCATEGORY', 'QUESTIONCATEGORY', 'Caa', 'Na', 'Na', 'V_2', 'Na', 'PERIODCATEGORY', 'PERIODCATEGORY'], ['ETCCATEGORY', 'WHITESPACE', 'Nh', 'VK', 'T', 'ETCCATEGORY', 'WHITESPACE', 'D', 'D', 'VC', 'Di', 'ETCCATEGORY', 'ETCCATEGORY'], ['VH', 'VJ', 'Neu', 'COMMACATEGORY', 'Neu', 'Nf', 'Na', 'COMMACATEGORY', 'Caa', 'Neu', 'Na', 'COMMACATEGORY', 'D', 'D', 'D', 'VH', 'T', 'PERIODCATEGORY', 'Nep', 'SHI', 'Na', 'DE', 'Na', 'PERIODCATEGORY'], ['Na', 'VE', 'COLONCATEGORY', 'Neu', 'COMMACATEGORY', 'Na', 'P', 'Na', 'VG', 'Neu', 'COLONCATEGORY', 'Neu', 'PERIODCATEGORY', 'Neu', 'COMMACATEGORY', 'D', 'D', 'VHC', 'PERIODCATEGORY']]\n",
      "\n",
      "\n",
      "命名實體識別輸出: [{(0, 3, 'PERSON', '傅達仁'), (18, 22, 'DATE', '20年前'), (23, 28, 'ORG', '緯來體育台')}, {(0, 2, 'GPE', '美國'), (21, 24, 'PERSON', '趙小蘭'), (56, 58, 'ORDINAL', '第一'), (11, 13, 'PERSON', '布什'), (60, 62, 'NORP', '華裔'), (7, 9, 'DATE', '今天'), (2, 5, 'ORG', '參議院'), (17, 21, 'ORG', '勞工部長'), (42, 45, 'ORG', '參議院')}, set(), {(0, 3, 'PERSON', '土地公')}, set(), {(4, 6, 'CARDINAL', '59'), (14, 18, 'CARDINAL', '5.9萬'), (7, 10, 'CARDINAL', '000')}, {(4, 5, 'CARDINAL', '1'), (16, 17, 'CARDINAL', '2'), (12, 13, 'CARDINAL', '1'), (14, 15, 'CARDINAL', '3')}]\n"
     ]
    }
   ],
   "source": [
    "# 實作結果\n",
    "#創建實例\n",
    "###<your code>###\n",
    "ws = WS(r'C:\\Users\\USER\\Desktop\\NLP 百日馬拉松\\範例\\D07data\\.') #建構斷詞\n",
    "word_s = ws(\n",
    "    sentence_list,\n",
    "    sentence_segmentation = True, # To consider delimiters\n",
    "    segment_delimiter_set = {\",\", \"。\", \":\", \"?\", \"!\", \";\"}) # This is the defualt set of delimiters\n",
    "#斷詞\n",
    "###<your code>###\n",
    "print(f'斷詞輸出: {word_s}')\n",
    "print('\\n')\n",
    "\n",
    "#詞性標注\n",
    "###<your code>###\n",
    "pos = POS(r'C:\\Users\\USER\\Desktop\\NLP 百日馬拉松\\範例\\D07data\\.')\n",
    "\n",
    "word_p = pos(word_sentence_list)\n",
    "print(f'詞性標注輸出: {word_p}')\n",
    "print('\\n')\n",
    "\n",
    "#命名實體識別\n",
    "###<your code>###\n",
    "ner = NER(r'C:\\Users\\USER\\Desktop\\NLP 百日馬拉松\\範例\\D07data\\.')\n",
    "\n",
    "word_n = ner(word_s, word_p)\n",
    "print(f'命名實體識別輸出: {word_n}')"
   ]
  },
  {
   "cell_type": "code",
   "execution_count": 5,
   "metadata": {
    "scrolled": true
   },
   "outputs": [
    {
     "name": "stderr",
     "output_type": "stream",
     "text": [
      "Exception ignored in: <function POS.__del__ at 0x12c5e2d90>\n",
      "Traceback (most recent call last):\n",
      "  File \"/Users/admin/Documents/cupoy/cupoy_env/lib/python3.7/site-packages/ckiptagger/api.py\", line 185, in __del__\n",
      "    self.model.sess.close()\n",
      "AttributeError: 'POS' object has no attribute 'model'\n"
     ]
    },
    {
     "name": "stdout",
     "output_type": "stream",
     "text": [
      "斷詞輸出: [['傅達仁', '今', '將', '執行', '安樂死', '，', '卻', '突然', '爆出', '自己', '20', '年', '前', '遭', '緯來', '體育台', '封殺', '，', '他', '不', '懂', '自己', '哪裡', '得罪到', '電視台', '。'], ['美國', '參議院', '針對', '今天', '總統', '布什', '所', '提名', '的', '勞工部長', '趙小蘭', '展開', '認可', '聽證會', '，', '預料', '她', '將', '會', '很', '順利', '通過', '參議院', '支持', '，', '成為', '該', '國', '有史以來', '第一', '位', '的', '華裔', '女性', '內閣', '成員', '。'], [], ['土地公', '有', '政策', '?', '？', '還是', '土地', '婆', '有', '政策', '。', '.'], ['…', ' ', '你', '確定', '嗎', '…', ' ', '不要', '再', '騙', '了', '…', '…'], ['最多', '容納', '59', ',', '000', '個', '人', ',', '或', '5.9萬', '人', ',', '再', '多', '就', '不行', '了', '.', '這', '是', '環評', '的', '結論', '.'], ['科長', '說', ':', '1', ',', '坪數', '對', '人數', '為', '1', ':', '3', '。', '2', ',', '可以', '再', '增加', '。']]\n",
      "\n",
      "\n",
      "詞性標注輸出: [['Nb', 'Nd', 'D', 'VC', 'Na', 'COMMACATEGORY', 'D', 'D', 'VJ', 'Nh', 'Neu', 'Nf', 'Ng', 'P', 'Nb', 'Na', 'VC', 'COMMACATEGORY', 'Nh', 'D', 'VK', 'Nh', 'Ncd', 'VJ', 'Nc', 'PERIODCATEGORY'], ['Nc', 'Nc', 'P', 'Nd', 'Na', 'Nb', 'D', 'VC', 'DE', 'Na', 'Nb', 'VC', 'VC', 'Na', 'COMMACATEGORY', 'VE', 'Nh', 'D', 'D', 'Dfa', 'VH', 'VC', 'Nc', 'VC', 'COMMACATEGORY', 'VG', 'Nes', 'Nc', 'D', 'Neu', 'Nf', 'DE', 'Na', 'Na', 'Na', 'Na', 'PERIODCATEGORY'], [], ['Nb', 'V_2', 'Na', 'QUESTIONCATEGORY', 'QUESTIONCATEGORY', 'Caa', 'Na', 'Na', 'V_2', 'Na', 'PERIODCATEGORY', 'PERIODCATEGORY'], ['ETCCATEGORY', 'WHITESPACE', 'Nh', 'VK', 'T', 'ETCCATEGORY', 'WHITESPACE', 'D', 'D', 'VC', 'Di', 'ETCCATEGORY', 'ETCCATEGORY'], ['VH', 'VJ', 'Neu', 'COMMACATEGORY', 'Neu', 'Nf', 'Na', 'COMMACATEGORY', 'Caa', 'Neu', 'Na', 'COMMACATEGORY', 'D', 'D', 'D', 'VH', 'T', 'PERIODCATEGORY', 'Nep', 'SHI', 'Na', 'DE', 'Na', 'PERIODCATEGORY'], ['Na', 'VE', 'COLONCATEGORY', 'Neu', 'COMMACATEGORY', 'Na', 'P', 'Na', 'VG', 'Neu', 'COLONCATEGORY', 'Neu', 'PERIODCATEGORY', 'Neu', 'COMMACATEGORY', 'D', 'D', 'VHC', 'PERIODCATEGORY']]\n",
      "\n",
      "\n",
      "命名實體識別輸出: [{(0, 3, 'PERSON', '傅達仁'), (23, 28, 'ORG', '緯來體育台'), (18, 22, 'DATE', '20年前')}, {(7, 9, 'DATE', '今天'), (2, 5, 'ORG', '參議院'), (17, 21, 'ORG', '勞工部長'), (11, 13, 'PERSON', '布什'), (21, 24, 'PERSON', '趙小蘭'), (60, 62, 'NORP', '華裔'), (0, 2, 'GPE', '美國'), (42, 45, 'ORG', '參議院'), (56, 58, 'ORDINAL', '第一')}, set(), {(0, 3, 'PERSON', '土地公')}, set(), {(7, 10, 'CARDINAL', '000'), (4, 6, 'CARDINAL', '59'), (14, 18, 'CARDINAL', '5.9萬')}, {(4, 5, 'CARDINAL', '1'), (16, 17, 'CARDINAL', '2'), (14, 15, 'CARDINAL', '3'), (12, 13, 'CARDINAL', '1')}]\n"
     ]
    }
   ],
   "source": [
    "#創建實例\n",
    "###<your code>###\n",
    "ws = WS(r'C:\\Users\\USER\\Desktop\\NLP 百日馬拉松\\範例\\D07data\\.') #建構斷詞\n",
    "word_sentence_list = ws(\n",
    "    sentence_list,\n",
    "    sentence_segmentation = True, # To consider delimiters\n",
    "    segment_delimiter_set = {\",\", \"。\", \":\", \"?\", \"!\", \";\"}) # This is the defualt set of delimiters\n",
    "#斷詞\n",
    "###<your code>###\n",
    "pos = POS(r'C:\\Users\\USER\\Desktop\\NLP 百日馬拉松\\範例\\D07data\\.')\n",
    "\n",
    "pos_sentence_list = pos(word_sentence_list)\n",
    "print(f'斷詞輸出: {word_s}')\n",
    "print('\\n')\n",
    "\n",
    "#詞性標注\n",
    "###<your code>###\n",
    "\n",
    "print(f'詞性標注輸出: {word_p}')\n",
    "print('\\n')\n",
    "\n",
    "#命名實體識別\n",
    "###<your code>###\n",
    "print(f'命名實體識別輸出: {word_n}')"
   ]
  },
  {
   "cell_type": "code",
   "execution_count": 21,
   "metadata": {},
   "outputs": [
    {
     "name": "stdout",
     "output_type": "stream",
     "text": [
      "Input sentence: \n",
      " 傅達仁今將執行安樂死，卻突然爆出自己20年前遭緯來體育台封殺，他不懂自己哪裡得罪到電視台。\n",
      "\n",
      "\n",
      "Segmentation with PoS: \n",
      "\n",
      "傅達仁(Nb)\t今(Nd)\t將(D)\t執行(VC)\t安樂死(Na)\t，(COMMACATEGORY)\t卻(D)\t突然(D)\t爆出(VJ)\t自己(Nh)\t20(Neu)\t年(Nf)\t前(Ng)\t遭(P)\t緯來(Nb)\t體育台(Na)\t封殺(VC)\t，(COMMACATEGORY)\t他(Nh)\t不(D)\t懂(VK)\t自己(Nh)\t哪裡(Ncd)\t得罪到(VJ)\t電視台(Nc)\t。(PERIODCATEGORY)\n",
      "\n",
      "\n",
      "Named Entity Recognition:\n",
      "(0, 3, 'PERSON', '傅達仁')\n",
      "(18, 22, 'DATE', '20年前')\n",
      "(23, 28, 'ORG', '緯來體育台')\n",
      "\n",
      "\n",
      "Input sentence: \n",
      " 美國參議院針對今天總統布什所提名的勞工部長趙小蘭展開認可聽證會，預料她將會很順利通過參議院支持，成為該國有史以來第一位的華裔女性內閣成員。\n",
      "\n",
      "\n",
      "Segmentation with PoS: \n",
      "\n",
      "美國(Nc)\t參議院(Nc)\t針對(P)\t今天(Nd)\t總統(Na)\t布什(Nb)\t所(D)\t提名(VC)\t的(DE)\t勞工部長(Na)\t趙小蘭(Nb)\t展開(VC)\t認可(VC)\t聽證會(Na)\t，(COMMACATEGORY)\t預料(VE)\t她(Nh)\t將(D)\t會(D)\t很(Dfa)\t順利(VH)\t通過(VC)\t參議院(Nc)\t支持(VC)\t，(COMMACATEGORY)\t成為(VG)\t該(Nes)\t國(Nc)\t有史以來(D)\t第一(Neu)\t位(Nf)\t的(DE)\t華裔(Na)\t女性(Na)\t內閣(Na)\t成員(Na)\t。(PERIODCATEGORY)\n",
      "\n",
      "\n",
      "Named Entity Recognition:\n",
      "(0, 2, 'GPE', '美國')\n",
      "(2, 5, 'ORG', '參議院')\n",
      "(7, 9, 'DATE', '今天')\n",
      "(11, 13, 'PERSON', '布什')\n",
      "(17, 21, 'ORG', '勞工部長')\n",
      "(21, 24, 'PERSON', '趙小蘭')\n",
      "(42, 45, 'ORG', '參議院')\n",
      "(56, 58, 'ORDINAL', '第一')\n",
      "(60, 62, 'NORP', '華裔')\n",
      "\n",
      "\n",
      "Input sentence: \n",
      " \n",
      "\n",
      "\n",
      "Segmentation with PoS: \n",
      "\n",
      "\n",
      "\n",
      "\n",
      "Named Entity Recognition:\n",
      "\n",
      "\n",
      "Input sentence: \n",
      " 土地公有政策?？還是土地婆有政策。.\n",
      "\n",
      "\n",
      "Segmentation with PoS: \n",
      "\n",
      "土地公(Nb)\t有(V_2)\t政策(Na)\t?(QUESTIONCATEGORY)\t？(QUESTIONCATEGORY)\t還是(Caa)\t土地(Na)\t婆(Na)\t有(V_2)\t政策(Na)\t。(PERIODCATEGORY)\t.(PERIODCATEGORY)\n",
      "\n",
      "\n",
      "Named Entity Recognition:\n",
      "(0, 3, 'PERSON', '土地公')\n",
      "\n",
      "\n",
      "Input sentence: \n",
      " … 你確定嗎… 不要再騙了……\n",
      "\n",
      "\n",
      "Segmentation with PoS: \n",
      "\n",
      "…(ETCCATEGORY)\t (WHITESPACE)\t你(Nh)\t確定(VK)\t嗎(T)\t…(ETCCATEGORY)\t (WHITESPACE)\t不要(D)\t再(D)\t騙(VC)\t了(Di)\t…(ETCCATEGORY)\t…(ETCCATEGORY)\n",
      "\n",
      "\n",
      "Named Entity Recognition:\n",
      "\n",
      "\n",
      "Input sentence: \n",
      " 最多容納59,000個人,或5.9萬人,再多就不行了.這是環評的結論.\n",
      "\n",
      "\n",
      "Segmentation with PoS: \n",
      "\n",
      "最多(VH)\t容納(VJ)\t59(Neu)\t,(COMMACATEGORY)\t000(Neu)\t個(Nf)\t人(Na)\t,(COMMACATEGORY)\t或(Caa)\t5.9萬(Neu)\t人(Na)\t,(COMMACATEGORY)\t再(D)\t多(D)\t就(D)\t不行(VH)\t了(T)\t.(PERIODCATEGORY)\t這(Nep)\t是(SHI)\t環評(Na)\t的(DE)\t結論(Na)\t.(PERIODCATEGORY)\n",
      "\n",
      "\n",
      "Named Entity Recognition:\n",
      "(4, 6, 'CARDINAL', '59')\n",
      "(7, 10, 'CARDINAL', '000')\n",
      "(14, 18, 'CARDINAL', '5.9萬')\n",
      "\n",
      "\n",
      "Input sentence: \n",
      " 科長說:1,坪數對人數為1:3。2,可以再增加。\n",
      "\n",
      "\n",
      "Segmentation with PoS: \n",
      "\n",
      "科長(Na)\t說(VE)\t:(COLONCATEGORY)\t1(Neu)\t,(COMMACATEGORY)\t坪數(Na)\t對(P)\t人數(Na)\t為(VG)\t1(Neu)\t:(COLONCATEGORY)\t3(Neu)\t。(PERIODCATEGORY)\t2(Neu)\t,(COMMACATEGORY)\t可以(D)\t再(D)\t增加(VHC)\t。(PERIODCATEGORY)\n",
      "\n",
      "\n",
      "Named Entity Recognition:\n",
      "(4, 5, 'CARDINAL', '1')\n",
      "(12, 13, 'CARDINAL', '1')\n",
      "(14, 15, 'CARDINAL', '3')\n",
      "(16, 17, 'CARDINAL', '2')\n",
      "\n",
      "\n"
     ]
    }
   ],
   "source": [
    "#合併顯示輸出結果\n",
    "def combine_wandp(word_s, word_p):\n",
    "    assert len(word_s) == len(word_p)\n",
    "    ###<your code>###\n",
    "    result = []\n",
    "    for i in range(len(word_s)):\n",
    "        result.append(f'{word_s[i]}({word_p[i]})')\n",
    "    \n",
    "    return print('\\t'.join(result))\n",
    "for i, sentence in enumerate(sentence_list):\n",
    "    print(f'Input sentence: \\n {sentence}')\n",
    "    print('\\n')\n",
    "    \n",
    "    print(f'Segmentation with PoS: \\n')\n",
    "    ###<your code>###\n",
    "    combine_wandp(word_s[i], word_p[i])\n",
    "    print ('\\n')\n",
    "    print('Named Entity Recognition:')\n",
    "    for n in sorted(word_n[i]):\n",
    "        print (n)\n",
    "    print ('\\n')"
   ]
  },
  {
   "cell_type": "markdown",
   "metadata": {},
   "source": [
    "### 帶入自定義字典\n",
    "\n",
    "觀察上面的輸出發現，斷詞結果將`年前`斷為`年`、`前`, 請使用自定義字典使斷詞結果依然維持為`年前`"
   ]
  },
  {
   "cell_type": "code",
   "execution_count": 24,
   "metadata": {},
   "outputs": [
    {
     "name": "stdout",
     "output_type": "stream",
     "text": [
      "[['傅達仁', '今', '將', '執行', '安樂死', '，', '卻', '突然', '爆出', '自己', '20', '年前', '遭', '緯來', '體育台', '封殺', '，', '他', '不', '懂', '自己', '哪裡', '得罪到', '電視台', '。']]\n"
     ]
    }
   ],
   "source": [
    "#定義字典\n",
    "###<your code>###\n",
    "from ckiptagger import construct_dictionary\n",
    "#帶入自定義字典進行斷詞\n",
    "ws = WS(r'C:\\Users\\USER\\Desktop\\NLP 百日馬拉松\\範例\\D07data\\.') #建構斷詞\n",
    "\n",
    "input_traditional_str = [\"傅達仁今將執行安樂死，卻突然爆出自己20年前遭緯來體育台封殺，他不懂自己哪裡得罪到電視台。\"]\n",
    "\n",
    "###<your code>###\n",
    "word_to_weight = {'年前': 1}\n",
    "dictionary = construct_dictionary(word_to_weight)\n",
    "word_sentence_list = ws(\n",
    "    input_traditional_str,\n",
    "    sentence_segmentation = True, # To consider delimiters\n",
    "    segment_delimiter_set = {\",\", \"。\", \":\", \"?\", \"!\", \";\"}, # This is the defualt set of delimiters\n",
    "    coerce_dictionary = dictionary) # words in this dictionary are forced\n",
    "print(word_sentence_list)"
   ]
  },
  {
   "cell_type": "code",
   "execution_count": 14,
   "metadata": {},
   "outputs": [
    {
     "name": "stderr",
     "output_type": "stream",
     "text": [
      "Exception ignored in: <function NER.__del__ at 0x12c5e2f28>\n",
      "Traceback (most recent call last):\n",
      "  File \"/Users/admin/Documents/cupoy/cupoy_env/lib/python3.7/site-packages/ckiptagger/api.py\", line 287, in __del__\n",
      "    self.model.sess.close()\n",
      "AttributeError: 'NER' object has no attribute 'model'\n"
     ]
    },
    {
     "name": "stdout",
     "output_type": "stream",
     "text": [
      "[['傅達仁', '今', '將', '執行', '安樂死', '，', '卻', '突然', '爆出', '自己', '20', '年前', '遭', '緯來', '體育台', '封殺', '，', '他', '不', '懂', '自己', '哪裡', '得罪到', '電視台', '。']]\n"
     ]
    }
   ],
   "source": [
    "#定義字典\n",
    "###<your code>###\n",
    "from ckiptagger import construct_dictionary\n",
    "#帶入自定義字典進行斷詞\n",
    "ws = WS(r'C:\\Users\\USER\\Desktop\\NLP 百日馬拉松\\範例\\D07data\\.') #建構斷詞\n",
    "\n",
    "input_traditional_str = [\"傅達仁今將執行安樂死，卻突然爆出自己20年前遭緯來體育台封殺，他不懂自己哪裡得罪到電視台。\"]\n",
    "\n",
    "###<your code>###\n",
    "word_to_weight = {'年前': 1}\n",
    "dictionary = construct_dictionary(word_to_weight)\n",
    "\n",
    "print(word_sentence_list)\n"
   ]
  }
 ],
 "metadata": {
  "kernelspec": {
   "display_name": "Python 3",
   "language": "python",
   "name": "python3"
  },
  "language_info": {
   "codemirror_mode": {
    "name": "ipython",
    "version": 3
   },
   "file_extension": ".py",
   "mimetype": "text/x-python",
   "name": "python",
   "nbconvert_exporter": "python",
   "pygments_lexer": "ipython3",
   "version": "3.8.3"
  }
 },
 "nbformat": 4,
 "nbformat_minor": 2
}
